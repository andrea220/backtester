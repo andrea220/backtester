{
 "cells": [
  {
   "cell_type": "code",
   "execution_count": 1,
   "metadata": {},
   "outputs": [],
   "source": [
    "import pandas as pd\n",
    "import talib\n",
    "from enum import Enum\n",
    "import QuantLib as ql\n",
    "from market import MarketData\n",
    "from datetime import date, timedelta\n",
    "from pricing import *\n"
   ]
  },
  {
   "cell_type": "code",
   "execution_count": null,
   "metadata": {},
   "outputs": [],
   "source": [
    "\n",
    "def get_dates_between(start_date, end_date):\n",
    "    dates = []\n",
    "    current_date = start_date\n",
    "    while current_date <= end_date:\n",
    "        dates.append(current_date)\n",
    "        current_date += timedelta(days=1)\n",
    "    return dates\n",
    "\n",
    "class Backtester(ABC):\n",
    "    def __init__(self, universe, start_date, end_date, starting_balance):\n",
    "        self.starting_balance = starting_balance\n",
    "        self.calendar = ql.TARGET()\n",
    "\n",
    "        market = MarketData(start_date, end_date)\n",
    "        self.portfolio = Portfolio()\n",
    "        for symbol in universe:\n",
    "            market.build(symbol)\n",
    "        self.available_market_data = market.market_data\n",
    "\n",
    "        self.backtest_dates = get_dates_between(start_date, end_date)\n",
    "        self.history = {}\n",
    "        self.ref_dates = []\n",
    "        self.unprocessed_dates = []\n",
    "        self.positions_summary = None\n",
    "\n",
    "    def backtest(self):\n",
    "        \"\"\" chiama in automatico on_data a ogni iterazione e aggiorna history con i valori noti fino alla data\"\"\"\n",
    "        self.positions_summary = pd.DataFrame()\n",
    "        self.ref_dates = []\n",
    "        for backtest_date in self.backtest_dates:\n",
    "            if self.calendar.isHoliday(ql.Date.from_date(backtest_date)):\n",
    "                continue\n",
    "            try: \n",
    "                self.history[backtest_date] = self.available_market_data[backtest_date]\n",
    "                # aggiungere if is_valid anche come controllo da far fare in fase di preprocessing\n",
    "            except:\n",
    "                self.unprocessed_dates.append(backtest_date)\n",
    "                continue\n",
    "            self.ref_dates.append(backtest_date)\n",
    "            self.on_data()\n",
    "            summary = pd.DataFrame(self.portfolio.get_positions_summary(self.available_market_data[backtest_date]))\n",
    "            self.positions_summary = pd.concat([self.summary_df, summary], axis = 0)\n",
    "            # funzione che aggiorna il portafoglio in automatico\n",
    "\n",
    "    def get_data_at(self, ref_date):\n",
    "        history = {}\n",
    "        for backtest_date in self.backtest_dates:\n",
    "            if backtest_date > ref_date:\n",
    "                break\n",
    "            if self.calendar.isHoliday(ql.Date.from_date(backtest_date)):\n",
    "                continue\n",
    "            try: \n",
    "                history[backtest_date] = self.available_market_data[backtest_date]\n",
    "                # aggiungere if is_valid anche come controllo da far fare in fase di preprocessing\n",
    "            except:\n",
    "                continue\n",
    "        return history\n",
    "                \n",
    "    @abstractmethod\n",
    "    def on_data(self):\n",
    "        \"\"\"\n",
    "        Implement trading logic.\n",
    "        \"\"\"\n",
    "        pass\n",
    "\n",
    "\n",
    "class BacktesterConcrete(Backtester):\n",
    "    def __init__(self, universe, start_date, end_date, starting_balance):\n",
    "        super().__init__(universe, start_date, end_date, starting_balance)\n",
    "\n",
    "    def on_data(self):\n",
    "        ref_date = self.ref_dates[-1] \n",
    "        # print(\"*\")\n"
   ]
  },
  {
   "cell_type": "code",
   "execution_count": 42,
   "metadata": {},
   "outputs": [],
   "source": [
    "universe = ['ctp1']\n",
    "start_date = date(2022, 10, 14)\n",
    "end_date = date(2023, 10, 12)\n",
    "market = MarketData(start_date, end_date)\n",
    "calendar = ql.TARGET()\n",
    "backtester = BacktesterConcrete(universe, start_date, end_date, 100)"
   ]
  },
  {
   "cell_type": "code",
   "execution_count": 43,
   "metadata": {},
   "outputs": [],
   "source": [
    "backtester.backtest()"
   ]
  },
  {
   "cell_type": "code",
   "execution_count": 44,
   "metadata": {},
   "outputs": [
    {
     "data": {
      "text/html": [
       "<div>\n",
       "<style scoped>\n",
       "    .dataframe tbody tr th:only-of-type {\n",
       "        vertical-align: middle;\n",
       "    }\n",
       "\n",
       "    .dataframe tbody tr th {\n",
       "        vertical-align: top;\n",
       "    }\n",
       "\n",
       "    .dataframe thead th {\n",
       "        text-align: right;\n",
       "    }\n",
       "</style>\n",
       "<table border=\"1\" class=\"dataframe\">\n",
       "  <thead>\n",
       "    <tr style=\"text-align: right;\">\n",
       "      <th></th>\n",
       "    </tr>\n",
       "  </thead>\n",
       "  <tbody>\n",
       "  </tbody>\n",
       "</table>\n",
       "</div>"
      ],
      "text/plain": [
       "Empty DataFrame\n",
       "Columns: []\n",
       "Index: []"
      ]
     },
     "execution_count": 44,
     "metadata": {},
     "output_type": "execute_result"
    }
   ],
   "source": [
    "backtester.summary_df"
   ]
  },
  {
   "cell_type": "code",
   "execution_count": 14,
   "metadata": {},
   "outputs": [
    {
     "data": {
      "text/plain": [
       "{datetime.date(2022, 10, 14): {'ref_date': datetime.date(2022, 10, 14),\n",
       "  'equity': {'ctp1': {'price': 1.7124, 'div_yield': 0.05, 'is_valid': True}},\n",
       "  'rate': {'riskfree': 0.03},\n",
       "  'volatility': {'ctp1': <QuantLib.QuantLib.BlackVarianceSurface; proxy of <Swig Object of type 'ext::shared_ptr< BlackVarianceSurface > *' at 0x000002A95249CB70> >}},\n",
       " datetime.date(2022, 10, 17): {'ref_date': datetime.date(2022, 10, 17),\n",
       "  'equity': {'ctp1': {'price': 1.743, 'div_yield': 0.05, 'is_valid': True}},\n",
       "  'rate': {'riskfree': 0.03},\n",
       "  'volatility': {'ctp1': <QuantLib.QuantLib.BlackVarianceSurface; proxy of <Swig Object of type 'ext::shared_ptr< BlackVarianceSurface > *' at 0x000002A95249CBD0> >}},\n",
       " datetime.date(2022, 10, 18): {'ref_date': datetime.date(2022, 10, 18),\n",
       "  'equity': {'ctp1': {'price': 1.8028, 'div_yield': 0.05, 'is_valid': True}},\n",
       "  'rate': {'riskfree': 0.03},\n",
       "  'volatility': {'ctp1': <QuantLib.QuantLib.BlackVarianceSurface; proxy of <Swig Object of type 'ext::shared_ptr< BlackVarianceSurface > *' at 0x000002A95249CED0> >}}}"
      ]
     },
     "execution_count": 14,
     "metadata": {},
     "output_type": "execute_result"
    }
   ],
   "source": [
    "backtester.get_data_at(date(2022, 10, 18))"
   ]
  },
  {
   "cell_type": "code",
   "execution_count": 15,
   "metadata": {},
   "outputs": [
    {
     "data": {
      "text/plain": [
       "{}"
      ]
     },
     "execution_count": 15,
     "metadata": {},
     "output_type": "execute_result"
    }
   ],
   "source": [
    "backtester.history"
   ]
  },
  {
   "cell_type": "code",
   "execution_count": null,
   "metadata": {},
   "outputs": [],
   "source": []
  },
  {
   "cell_type": "code",
   "execution_count": null,
   "metadata": {},
   "outputs": [],
   "source": []
  },
  {
   "cell_type": "code",
   "execution_count": null,
   "metadata": {},
   "outputs": [],
   "source": []
  },
  {
   "cell_type": "code",
   "execution_count": null,
   "metadata": {},
   "outputs": [],
   "source": []
  },
  {
   "cell_type": "code",
   "execution_count": null,
   "metadata": {},
   "outputs": [],
   "source": []
  }
 ],
 "metadata": {
  "kernelspec": {
   "display_name": "env_zipline",
   "language": "python",
   "name": "python3"
  },
  "language_info": {
   "codemirror_mode": {
    "name": "ipython",
    "version": 3
   },
   "file_extension": ".py",
   "mimetype": "text/x-python",
   "name": "python",
   "nbconvert_exporter": "python",
   "pygments_lexer": "ipython3",
   "version": "3.9.18"
  }
 },
 "nbformat": 4,
 "nbformat_minor": 2
}
