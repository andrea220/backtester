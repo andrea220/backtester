{
 "cells": [
  {
   "cell_type": "code",
   "execution_count": 38,
   "metadata": {},
   "outputs": [],
   "source": [
    "import pandas as pd\n",
    "import talib\n",
    "from enum import Enum\n",
    "import QuantLib as ql\n",
    "from market import MarketData\n",
    "from datetime import date \n",
    "\n",
    "class OrderType(Enum):\n",
    "    BUY = \"buy\"\n",
    "    SELL = \"sell\"\n",
    "\n",
    "class PositionType(Enum):\n",
    "    LONG = 1\n",
    "    SHORT = -1\n",
    "\n",
    "class OptionType(Enum):\n",
    "    CALL = \"Call\"\n",
    "    PUT = \"Put\"\n",
    "\n",
    "class AssetType(Enum):\n",
    "    EQUITY = 'equity'\n",
    "    BOND = \"bond\"\n",
    "    OPTION = \"option\""
   ]
  },
  {
   "cell_type": "markdown",
   "metadata": {},
   "source": [
    "# CORE"
   ]
  },
  {
   "cell_type": "code",
   "execution_count": 2,
   "metadata": {},
   "outputs": [],
   "source": [
    "class Indicator:\n",
    "    def __init__(self):\n",
    "        self.methods = {}\n",
    "\n",
    "    def register(self, name=None):\n",
    "        \"\"\"\n",
    "        A decorator to register an indicator method with a custom or derived name.\n",
    "        \"\"\"\n",
    "        def decorator(func):\n",
    "            indicator_name = name or func.__name__\n",
    "            self.methods[indicator_name] = func\n",
    "            return func\n",
    "        return decorator\n",
    "\n",
    "    def compute(self, name, *args, **kwargs):\n",
    "        \"\"\"\n",
    "        Compute the registered indicator.\n",
    "        \"\"\"\n",
    "        if name not in self.methods:\n",
    "            raise ValueError(f\"Indicator '{name}' is not registered.\")\n",
    "        return self.methods[name](*args, **kwargs)\n",
    "\n",
    "\n",
    "class Backtester:\n",
    "    def __init__(self, history: pd.DataFrame, starting_balance: float,):\n",
    "        self.starting_balance = starting_balance\n",
    "        self.position_open = False\n",
    "        self.equity_history = []\n",
    "        self.signals = []\n",
    "        self.indicators = Indicator()  # Indicator object for registration\n",
    "        self._add_data(history)\n",
    "        self.indicator_values = pd.DataFrame(index=history.index)\n",
    "\n",
    "    def _add_data(self, history):\n",
    "        self._history = history\n",
    "\n",
    "    def backtest(self):\n",
    "        \"\"\" chiama in automatico on_data a ogni iterazione e aggiorna history con i valori noti fino alla data\"\"\"\n",
    "        for i in range(0, len(self._history)):\n",
    "            self.history = self._history.iloc[:i + 1]\n",
    "            self.on_data()\n",
    "\n",
    "    def add_indicator(self, name, value):\n",
    "        \"\"\"\n",
    "        Automatically updates the indicator DataFrame.\n",
    "        \"\"\"\n",
    "        self.indicator_values.loc[self.history.index[-1], name] = value\n",
    "\n",
    "    def get_data_at_index(self, idx):\n",
    "        \"\"\"\n",
    "        Returns the historical data and indicators up to the specified index.\n",
    "        :param idx: The index yyyy-mm-dd up to which to return data.\n",
    "        :return: A combined DataFrame with historical data and indicators.\n",
    "        \"\"\"\n",
    "        if idx not in self._history.index:\n",
    "            raise ValueError(f\"Index {idx} is not in the historical data.\")\n",
    "        \n",
    "        # Slice the historical data and indicators up to the specified index\n",
    "        data = self._history.loc[:idx]\n",
    "        indicators = self.indicator_values.loc[:idx]\n",
    "        \n",
    "        # Combine historical data and indicators into one DataFrame\n",
    "        return pd.concat([data, indicators], axis=1)\n",
    "    \n",
    "    def execute_trade(self, trade_type, quantity, price):\n",
    "        \"\"\"Esegue operazioni di acquisto o vendita.\"\"\"\n",
    "        cost = quantity * price\n",
    "\n",
    "        if trade_type == OrderType.BUY:\n",
    "            if self.starting_balance >= cost:\n",
    "                self.starting_balance -= cost\n",
    "                self.position_open = True\n",
    "                self.signals.append({\"type\": \"BUY\", \"price\": price})\n",
    "            else:\n",
    "                print(\"Fondi insufficienti per comprare.\")\n",
    "        elif trade_type == OrderType.SELL:\n",
    "            if self.position_open:\n",
    "                self.starting_balance += cost\n",
    "                self.position_open = False\n",
    "                self.signals.append({\"type\": \"SELL\", \"price\": price})\n",
    "            else:\n",
    "                print(\"Nessuna posizione aperta da vendere.\")\n",
    "\n",
    "        # Aggiorna l'equity history\n",
    "        self.equity_history.append(self.starting_balance)\n",
    "\n",
    "    def on_data(self):\n",
    "        \"\"\"\n",
    "        Implement trading logic.\n",
    "        \"\"\"\n",
    "        pass\n",
    "\n",
    "\n",
    "class BacktesterConcrete(Backtester):\n",
    "    def __init__(self, history, starting_balance, ema_window=20):\n",
    "        super().__init__(history, starting_balance)\n",
    "        self.ema_window = ema_window\n",
    "\n",
    "        # Register EMA indicator\n",
    "        @self.indicators.register(name=\"ema\")\n",
    "        def ema(series, window):\n",
    "            return talib.EMA(series, timeperiod=window)\n",
    "\n",
    "    def on_data(self):\n",
    "        \"\"\"Calcola l'EMA e genera segnali di trading.\"\"\"\n",
    "        latest_price = self.history[\"price\"].iloc[-1]\n",
    "\n",
    "        # Calcola EMA\n",
    "        ema_series = self.indicators.compute(\"ema\", self.history[\"price\"], self.ema_window)\n",
    "        latest_ema = ema_series.iloc[-1] if not ema_series.isna().iloc[-1] else None\n",
    "\n",
    "        # Salva EMA nel DataFrame indicator_values\n",
    "        self.add_indicator(\"ema\", latest_ema)\n",
    "\n",
    "        # Genera segnali di trading\n",
    "        if latest_ema is not None:\n",
    "            if latest_price > latest_ema and not self.position_open:\n",
    "                self.execute_trade(OrderType.BUY, quantity=1, price=latest_price)\n",
    "            elif latest_price < latest_ema and self.position_open:\n",
    "                self.execute_trade(OrderType.SELL, quantity=1, price=latest_price)\n"
   ]
  },
  {
   "cell_type": "markdown",
   "metadata": {},
   "source": [
    "# Position and Portfolio"
   ]
  },
  {
   "cell_type": "code",
   "execution_count": 220,
   "metadata": {},
   "outputs": [],
   "source": [
    "from abc import ABC, abstractmethod\n",
    "from datetime import date \n",
    "\n",
    "class Position(ABC):\n",
    "    def __init__(self, symbol: str, asset_type: AssetType, quantity: float, market_data: dict, position_type: PositionType):\n",
    "        self.symbol = symbol\n",
    "        self.asset_type = asset_type  # \"bond\", \"equity\", \"option\"\n",
    "        self.quantity = quantity\n",
    "        self.trade_date = market_data['ref_date']\n",
    "        self.entry_price = self.calculate_value(market_data) \n",
    "        self.position_type = position_type\n",
    "\n",
    "    @abstractmethod\n",
    "    def calculate_value(self, market_data: dict) -> float:\n",
    "        \"\"\"Metodo astratto per calcolare il valore della posizione.\"\"\"\n",
    "        pass\n",
    "\n",
    "    def calculate_pnl(self, market_data: dict) -> float:\n",
    "        \"\"\"Metodo astratto per calcolare il valore della posizione.\"\"\"\n",
    "        return (self.calculate_value(market_data) - self.entry_price) * self.position_type.value * self.quantity \n",
    "\n",
    "\n",
    "class EquityPosition(Position):\n",
    "    def __init__(self, symbol: str, quantity: float, market_data: dict, position_type: PositionType):\n",
    "        super().__init__(symbol, AssetType.EQUITY, quantity, market_data, position_type)\n",
    "\n",
    "    def calculate_value(self, market_data: dict) -> float:\n",
    "        \"\"\"Usa il prezzo corrente dell'azione per calcolare il valore della posizione.\"\"\"\n",
    "        return market_data[self.asset_type.value][self.symbol][\"price\"]\n",
    "\n",
    "\n",
    "class OptionPosition(Position):\n",
    "    def __init__(self, symbol: str, quantity: float, market_data: dict, strike_price: float, expiry_date: date, option_type: OptionType, position_type: PositionType,\n",
    "                 day_count = ql.Actual365Fixed(), calendar = ql.TARGET()):\n",
    "        self.strike_price = strike_price\n",
    "        self.expiry_date = expiry_date\n",
    "        if option_type == OptionType.CALL:\n",
    "            self.option_type = ql.Option.Call\n",
    "        else:\n",
    "            self.option_type = ql.Option.Put\n",
    "        self.day_count = day_count\n",
    "        self.calendar = calendar\n",
    "        self.option = self._build_option()\n",
    "        super().__init__(symbol, AssetType.OPTION, quantity, market_data, position_type)\n",
    "\n",
    "    def calculate_value(self, market_data: dict):\n",
    "        valuation_date = ql.Date.from_date(market_data['ref_date'])\n",
    "        ql.Settings.instance().evaluationDate = valuation_date\n",
    "        \n",
    "        maturity_date = ql.Date.from_date(self.expiry_date)\n",
    "        sigma = market_data['volatility'][self.symbol].blackVol(maturity_date, self.strike_price)\n",
    "\n",
    "        spot_handle = ql.QuoteHandle(\n",
    "        ql.SimpleQuote(market_data['equity'][self.symbol]['price'])\n",
    "        )\n",
    "        flat_ts = ql.YieldTermStructureHandle(\n",
    "        ql.FlatForward(valuation_date, market_data['rate']['riskfree'], self.day_count)\n",
    "        )\n",
    "        dividend_yield = ql.YieldTermStructureHandle(\n",
    "        ql.FlatForward(valuation_date, market_data['equity'][self.symbol]['div_yield'], self.day_count)\n",
    "        )\n",
    "        flat_vol_ts = ql.BlackVolTermStructureHandle(\n",
    "        ql.BlackConstantVol(valuation_date, self.calendar, sigma, self.day_count)\n",
    "        )\n",
    "        bsm_process = ql.BlackScholesMertonProcess(spot_handle,\n",
    "                                                dividend_yield,\n",
    "                                                flat_ts,\n",
    "                                                flat_vol_ts)\n",
    "\n",
    "        self.option.setPricingEngine(ql.AnalyticEuropeanEngine(bsm_process))\n",
    "        return self.option.NPV()\n",
    "    \n",
    "    def _build_option(self):\n",
    "        maturity_date = ql.Date.from_date(self.expiry_date)\n",
    "        payoff = ql.PlainVanillaPayoff(self.option_type, self.strike_price)\n",
    "        exercise = ql.EuropeanExercise(maturity_date)\n",
    "        return ql.VanillaOption(payoff, exercise)\n",
    "\n",
    "\n",
    "    \n",
    "\n",
    "class Portfolio:\n",
    "    def __init__(self, initial_balance: float):\n",
    "        self.cash_balance = initial_balance  # Saldo disponibile\n",
    "        self.positions = []  # Lista di posizioni aperte\n",
    "\n",
    "    def add_position(self, position):\n",
    "        \"\"\"Aggiunge una posizione al portafoglio.\"\"\"\n",
    "        cost = position.entry_price * position.quantity\n",
    "        \n",
    "        if self.cash_balance >= cost:\n",
    "            self.positions.append(position)\n",
    "            self.cash_balance -= cost  # Aggiorna il saldo\n",
    "        else:\n",
    "            print(\"Fondi insufficienti per aprire la posizione.\")\n",
    "\n",
    "    def close_position(self, position, market_data: dict):\n",
    "        \"\"\"Chiude una posizione esistente e aggiorna il saldo.\"\"\"\n",
    "        if position in self.positions:\n",
    "            value = position.calculate_value(market_data)\n",
    "            self.cash_balance += value  # Aggiorna il saldo con il valore di vendita\n",
    "            self.positions.remove(position)\n",
    "        else:\n",
    "            print(\"Posizione non trovata nel portafoglio.\")\n",
    "\n",
    "    def total_value(self, market_data: dict):\n",
    "        \"\"\"\n",
    "        Calcola il valore totale del portafoglio, considerando le posizioni aperte.\n",
    "        :param market_data: dizionario con i dati di mercato {\"equity\": {...}, \"rates\": {...}, \"volatilities\": {...}}\n",
    "        :return: valore totale del portafoglio\n",
    "        \"\"\"\n",
    "        total = self.cash_balance  # Include il saldo disponibile\n",
    "        for position in self.positions:\n",
    "            total += position.calculate_value(market_data)\n",
    "        return total\n",
    "\n",
    "    def summary(self):\n",
    "        \"\"\"Mostra un riepilogo del portafoglio.\"\"\"\n",
    "        print(f\"Saldo disponibile: {self.cash_balance:.2f}\")\n",
    "        print(\"Posizioni aperte:\")\n",
    "        for position in self.positions:\n",
    "            print(f\"- {position.asset_type} | Quantità: {position.quantity} | Prezzo entrata: {position.entry_price}\")\n",
    "\n"
   ]
  },
  {
   "cell_type": "markdown",
   "metadata": {},
   "source": [
    "# debug singoli"
   ]
  },
  {
   "cell_type": "markdown",
   "metadata": {},
   "source": [
    "## pricing"
   ]
  },
  {
   "cell_type": "code",
   "execution_count": 122,
   "metadata": {},
   "outputs": [],
   "source": [
    "symbol = 'ctp1'\n",
    "start_date = date(2022, 10, 14)\n",
    "end_date = date(2023, 10, 12)\n",
    "market = MarketData(start_date, end_date)\n",
    "\n",
    "market.build(symbol)"
   ]
  },
  {
   "cell_type": "markdown",
   "metadata": {},
   "source": [
    "equity"
   ]
  },
  {
   "cell_type": "code",
   "execution_count": 216,
   "metadata": {},
   "outputs": [
    {
     "name": "stdout",
     "output_type": "stream",
     "text": [
      "entry ref:  1.7124\n"
     ]
    }
   ],
   "source": [
    "entry_mkt = market.market_data[date(2022, 10, 14)]\n",
    "exit_mkt = market.market_data[date(2022, 11, 14)]\n",
    "\n",
    "equity_position = EquityPosition(symbol, quantity=10, market_data=entry_mkt, position_type=PositionType.LONG)\n",
    "print(\"entry ref: \", entry_mkt['equity'][symbol]['price'])"
   ]
  },
  {
   "cell_type": "code",
   "execution_count": 217,
   "metadata": {},
   "outputs": [
    {
     "name": "stdout",
     "output_type": "stream",
     "text": [
      "exit ref:  2.1865\n",
      "PNL : 4.741000000000001\n"
     ]
    }
   ],
   "source": [
    "print(\"exit ref: \", exit_mkt['equity'][symbol]['price'])\n",
    "print(\"PNL :\", equity_position.calculate_pnl(exit_mkt))\n"
   ]
  },
  {
   "cell_type": "markdown",
   "metadata": {},
   "source": [
    "option"
   ]
  },
  {
   "cell_type": "code",
   "execution_count": 221,
   "metadata": {},
   "outputs": [],
   "source": [
    "quantity= 1\n",
    "market_data= entry_mkt\n",
    "strike_price= 1.7\n",
    "expiry_date= date(2025, 1, 20)\n",
    "option_type= OptionType.CALL\n",
    "position_type= PositionType.LONG"
   ]
  },
  {
   "cell_type": "code",
   "execution_count": 222,
   "metadata": {},
   "outputs": [],
   "source": [
    "opt = OptionPosition(symbol,\n",
    "               10,\n",
    "               entry_mkt,\n",
    "               strike_price,\n",
    "               expiry_date,\n",
    "               option_type,\n",
    "               position_type)"
   ]
  },
  {
   "cell_type": "code",
   "execution_count": 223,
   "metadata": {},
   "outputs": [
    {
     "data": {
      "text/plain": [
       "3.880492462894305"
      ]
     },
     "execution_count": 223,
     "metadata": {},
     "output_type": "execute_result"
    }
   ],
   "source": [
    "opt.calculate_pnl(exit_mkt)"
   ]
  },
  {
   "cell_type": "code",
   "execution_count": null,
   "metadata": {},
   "outputs": [],
   "source": [
    "opt.calculate_value(exit_mkt)"
   ]
  },
  {
   "cell_type": "code",
   "execution_count": 227,
   "metadata": {},
   "outputs": [
    {
     "data": {
      "text/plain": [
       "0.15060245190513466"
      ]
     },
     "execution_count": 227,
     "metadata": {},
     "output_type": "execute_result"
    }
   ],
   "source": [
    "opt.calculate_value(entry_mkt)"
   ]
  },
  {
   "cell_type": "code",
   "execution_count": 228,
   "metadata": {},
   "outputs": [
    {
     "data": {
      "text/plain": [
       "0.5386516981945652"
      ]
     },
     "execution_count": 228,
     "metadata": {},
     "output_type": "execute_result"
    }
   ],
   "source": [
    "opt.calculate_value(exit_mkt)"
   ]
  },
  {
   "cell_type": "code",
   "execution_count": null,
   "metadata": {},
   "outputs": [],
   "source": []
  },
  {
   "cell_type": "code",
   "execution_count": null,
   "metadata": {},
   "outputs": [],
   "source": []
  },
  {
   "cell_type": "markdown",
   "metadata": {},
   "source": [
    "# Backtest"
   ]
  },
  {
   "cell_type": "code",
   "execution_count": 26,
   "metadata": {},
   "outputs": [],
   "source": [
    "# params \n",
    "df_prices = pd.read_csv('data/prices/isp_prices.csv')\n",
    "params = {\n",
    "    \"starting_balance\": 10000,\n",
    "    \"ema_window\": 20\n",
    "}"
   ]
  },
  {
   "cell_type": "code",
   "execution_count": 22,
   "metadata": {},
   "outputs": [],
   "source": [
    "backtester  = BacktesterConcrete(df_prices, **params)\n",
    "backtester.backtest()"
   ]
  },
  {
   "cell_type": "code",
   "execution_count": null,
   "metadata": {},
   "outputs": [],
   "source": []
  },
  {
   "cell_type": "code",
   "execution_count": null,
   "metadata": {},
   "outputs": [],
   "source": []
  }
 ],
 "metadata": {
  "kernelspec": {
   "display_name": "env_zipline",
   "language": "python",
   "name": "python3"
  },
  "language_info": {
   "codemirror_mode": {
    "name": "ipython",
    "version": 3
   },
   "file_extension": ".py",
   "mimetype": "text/x-python",
   "name": "python",
   "nbconvert_exporter": "python",
   "pygments_lexer": "ipython3",
   "version": "3.9.18"
  }
 },
 "nbformat": 4,
 "nbformat_minor": 2
}
